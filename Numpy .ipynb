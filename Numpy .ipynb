{
 "cells": [
  {
   "cell_type": "markdown",
   "id": "18f390cf",
   "metadata": {},
   "source": [
    "# Numpy Questions for revision"
   ]
  },
  {
   "cell_type": "markdown",
   "id": "d653fd5d",
   "metadata": {},
   "source": [
    "1. What is a vector?"
   ]
  },
  {
   "cell_type": "markdown",
   "id": "036dbd45",
   "metadata": {},
   "source": [
    "In NumPy, a vector is a one-dimensional array. It is similar to a Python list, but is more efficient for certain operations and is always homogenous (i.e., all elements of the array have the same data type)."
   ]
  },
  {
   "cell_type": "code",
   "execution_count": 1,
   "id": "e118219a",
   "metadata": {},
   "outputs": [],
   "source": [
    "import numpy as np"
   ]
  },
  {
   "cell_type": "markdown",
   "id": "d6e62b70",
   "metadata": {},
   "source": [
    "2. How do you represent vectors using a Python list? Give an example."
   ]
  },
  {
   "cell_type": "code",
   "execution_count": 4,
   "id": "d0fa9c00",
   "metadata": {},
   "outputs": [
    {
     "name": "stdout",
     "output_type": "stream",
     "text": [
      "[1.  2.5 3.7 4. ]\n"
     ]
    }
   ],
   "source": [
    "v = np.array([1.0, 2.5, 3.7, 4])\n",
    "print(v)"
   ]
  },
  {
   "cell_type": "markdown",
   "id": "eafe615a",
   "metadata": {},
   "source": [
    "3. What is a dot product of two vectors?"
   ]
  },
  {
   "cell_type": "markdown",
   "id": "a80906ce",
   "metadata": {},
   "source": [
    "The dot product (also called the scalar product or inner product) of two vectors is a scalar value that is obtained by multiplying the corresponding elements of the two vectors and summing the results."
   ]
  },
  {
   "cell_type": "markdown",
   "id": "e6ac3227",
   "metadata": {},
   "source": [
    "4. Write a function to compute the dot product of two vectors."
   ]
  },
  {
   "cell_type": "code",
   "execution_count": 6,
   "id": "243268eb",
   "metadata": {},
   "outputs": [
    {
     "name": "stdout",
     "output_type": "stream",
     "text": [
      "32\n"
     ]
    }
   ],
   "source": [
    "def dot_product(a,b):\n",
    "    return a@b\n",
    "\n",
    "a = np.array([1, 2, 3])\n",
    "b = np.array([4, 5, 6])\n",
    "\n",
    "\n",
    "dot_product = dot_product(a,b)\n",
    "\n",
    "print(dot_product)"
   ]
  },
  {
   "cell_type": "markdown",
   "id": "34aa90bc",
   "metadata": {},
   "source": [
    "5. What is Numpy?"
   ]
  },
  {
   "cell_type": "markdown",
   "id": "dd27a313",
   "metadata": {},
   "source": [
    "NumPy is a library for the Python programming language, adding support for large, multi-dimensional arrays and matrices, along with a large collection of high-level mathematical functions to operate on these arrays."
   ]
  },
  {
   "cell_type": "markdown",
   "id": "02b1c9b0",
   "metadata": {},
   "source": [
    "6. How do you install Numpy?"
   ]
  },
  {
   "cell_type": "code",
   "execution_count": 7,
   "id": "69284b00",
   "metadata": {},
   "outputs": [],
   "source": [
    "!pip install numpy --upgrade --quiet"
   ]
  },
  {
   "cell_type": "markdown",
   "id": "1518b36d",
   "metadata": {},
   "source": [
    "7. How do you import the numpy module?"
   ]
  },
  {
   "cell_type": "markdown",
   "id": "06f3558d",
   "metadata": {},
   "source": [
    "8. What does it mean to import a module with an alias? Give an example."
   ]
  },
  {
   "cell_type": "code",
   "execution_count": 9,
   "id": "74478579",
   "metadata": {},
   "outputs": [],
   "source": [
    "import numpy as np"
   ]
  },
  {
   "cell_type": "markdown",
   "id": "825a259d",
   "metadata": {},
   "source": [
    "9. What is the commonly used alias for numpy?"
   ]
  },
  {
   "cell_type": "markdown",
   "id": "7ddd3341",
   "metadata": {},
   "source": [
    "np or anything else can be given as alias"
   ]
  },
  {
   "cell_type": "markdown",
   "id": "97bf4bb0",
   "metadata": {},
   "source": [
    "10. What is a Numpy array?"
   ]
  },
  {
   "cell_type": "markdown",
   "id": "8ed2d3ad",
   "metadata": {},
   "source": [
    "A NumPy array is a multi-dimensional array of homogenous (same type) elements. It is similar to a Python list, but is more efficient for certain operations and is always homogenous (i.e., all elements of the array have the same data type). NumPy arrays are used to represent large arrays of numerical data, such as images, audio signals, and other types of data."
   ]
  },
  {
   "cell_type": "markdown",
   "id": "d9235296",
   "metadata": {},
   "source": [
    "11. How do you create a Numpy array? Give an example."
   ]
  },
  {
   "cell_type": "code",
   "execution_count": 13,
   "id": "3008a3a3",
   "metadata": {},
   "outputs": [
    {
     "name": "stdout",
     "output_type": "stream",
     "text": [
      "[1 2 3 4]\n"
     ]
    }
   ],
   "source": [
    "lst = [1, 2, 3, 4]\n",
    "a = np.array(lst)\n",
    "print(a)"
   ]
  },
  {
   "cell_type": "markdown",
   "id": "c922c56a",
   "metadata": {},
   "source": [
    "12. What is the type of Numpy arrays?"
   ]
  },
  {
   "cell_type": "code",
   "execution_count": 12,
   "id": "d81b26f7",
   "metadata": {},
   "outputs": [
    {
     "data": {
      "text/plain": [
       "numpy.ndarray"
      ]
     },
     "execution_count": 12,
     "metadata": {},
     "output_type": "execute_result"
    }
   ],
   "source": [
    "type(a)"
   ]
  },
  {
   "cell_type": "markdown",
   "id": "c9cb1830",
   "metadata": {},
   "source": [
    "13. How do you access the elements of a Numpy array?"
   ]
  },
  {
   "cell_type": "markdown",
   "id": "ceb4a7f0",
   "metadata": {},
   "source": [
    "You can access the elements of a NumPy array using indices or slices.\n",
    "\n",
    "To access a single element of a NumPy array, you can use the square bracket notation and specify the index of the element you want to access"
   ]
  },
  {
   "cell_type": "markdown",
   "id": "0966a016",
   "metadata": {},
   "source": [
    "14. How do you compute the dot product of two vectors using Numpy?"
   ]
  },
  {
   "cell_type": "markdown",
   "id": "e188f453",
   "metadata": {},
   "source": [
    "To compute the dot product of two vectors using NumPy, you can use the dot function. This function takes two arrays as arguments and returns the dot product of the arrays."
   ]
  },
  {
   "cell_type": "markdown",
   "id": "aeba4c4b",
   "metadata": {},
   "source": [
    "15. What happens if you try to compute the dot product of two vectors which have different sizes?"
   ]
  },
  {
   "cell_type": "markdown",
   "id": "4367a186",
   "metadata": {},
   "source": [
    "If you try to compute the dot product of two vectors which have different sizes, NumPy will raise a ValueError exception. This is because the dot product of two vectors is defined only for vectors of the same size."
   ]
  },
  {
   "cell_type": "markdown",
   "id": "da93aa70",
   "metadata": {},
   "source": [
    "ValueError: shapes (3,) and (2,) not aligned: 3 (dim 0) != 2 (dim 0)\n"
   ]
  },
  {
   "cell_type": "markdown",
   "id": "71391c67",
   "metadata": {},
   "source": [
    "16. How do you compute the element-wise product of two Numpy arrays?"
   ]
  },
  {
   "cell_type": "markdown",
   "id": "a568db98",
   "metadata": {},
   "source": [
    "To compute the element-wise product of two NumPy arrays, you can use the * operator or the multiply function.\n",
    "\n",
    "The * operator performs element-wise multiplication of the two arrays and returns a new array with the results. "
   ]
  },
  {
   "cell_type": "markdown",
   "id": "2c4b3fe2",
   "metadata": {},
   "source": [
    "Both the * operator and the multiply function work for both 1D and 2D arrays. For 2D arrays, the element-wise product is calculated for each element of the arrays."
   ]
  },
  {
   "cell_type": "code",
   "execution_count": 16,
   "id": "0adec836",
   "metadata": {},
   "outputs": [
    {
     "name": "stdout",
     "output_type": "stream",
     "text": [
      "[ 4 10 18]\n",
      "[ 4. 10. 18.]\n"
     ]
    }
   ],
   "source": [
    "a = np.array([1, 2, 3])\n",
    "b = np.array([4, 5, 6])\n",
    "\n",
    "c = a * b\n",
    "\n",
    "d = np.empty(a.shape)\n",
    "\n",
    "np.multiply(a, b, out=d)\n",
    "\n",
    "print(c)\n",
    "print(d)"
   ]
  },
  {
   "cell_type": "markdown",
   "id": "9bd4bcdc",
   "metadata": {},
   "source": [
    "17. How do you compute the sum of all the elements in a Numpy array?"
   ]
  },
  {
   "cell_type": "markdown",
   "id": "e77800c2",
   "metadata": {},
   "source": [
    "To compute the sum of all the elements in a NumPy array, you can use the sum function. This function takes an array as an argument and returns the sum of all the elements in the array."
   ]
  },
  {
   "cell_type": "code",
   "execution_count": 18,
   "id": "52d0e185",
   "metadata": {},
   "outputs": [
    {
     "name": "stdout",
     "output_type": "stream",
     "text": [
      "[4 6]\n",
      "[3 7]\n"
     ]
    }
   ],
   "source": [
    "a = np.array([[1, 2], [3, 4]])\n",
    "\n",
    "s = np.sum(a, axis=0)# Compute the sum of all the elements along axis 0 (columns)\n",
    "\n",
    "print(s)\n",
    "\n",
    "s = np.sum(a, axis=1)# Compute the sum of all the elements along axis 1 (rows)\n",
    "\n",
    "print(s)"
   ]
  },
  {
   "cell_type": "markdown",
   "id": "8b8a228e",
   "metadata": {},
   "source": [
    "18. What are the benefits of using Numpy arrays over Python lists for operating on numerical data?"
   ]
  },
  {
   "cell_type": "markdown",
   "id": "3d567489",
   "metadata": {},
   "source": [
    "Performance: NumPy arrays are implemented in C and are more efficient than Python lists for certain operations, such as element-wise arithmetic, dot product, and more. NumPy arrays can also be processed in parallel using multi-core processors, which can speed up certain operations.\n",
    "\n",
    "Memory efficiency: NumPy arrays use less memory than Python lists, because they store the data in a contiguous block of memory and use a fixed data type. This can be important when working with large datasets that do not fit in memory.\n",
    "\n",
    "Functionality: NumPy provides a large set of functions and methods that allow you to perform various operations on arrays, such as element-wise arithmetic, linear algebra, statistical analysis, and more. These functions are optimized for speed and are much faster than writing a loop in Python.\n",
    "\n",
    "Integration with other libraries: NumPy arrays are used as the basic data structure in many popular libraries such as scikit-learn, TensorFlow, and PyTorch. These libraries provide efficient implementations of various algorithms that operate on NumPy arrays, and using NumPy arrays can make it easier to integrate your code with these libraries."
   ]
  },
  {
   "cell_type": "markdown",
   "id": "0fba9088",
   "metadata": {},
   "source": [
    "19. Why do Numpy array operations have better performance compared to Python functions and loops?"
   ]
  },
  {
   "cell_type": "markdown",
   "id": "0e50f827",
   "metadata": {},
   "source": [
    "NumPy array operations are much faster than Python functions and loops because they are implemented in C, are optimized for speed, and can be parallelized using multi-core processors. This makes NumPy an essential library for scientific computing with Python."
   ]
  },
  {
   "cell_type": "markdown",
   "id": "1902472c",
   "metadata": {},
   "source": [
    "20. Illustrate the performance difference between Numpy array operations and Python loops using an example."
   ]
  },
  {
   "cell_type": "code",
   "execution_count": 21,
   "id": "752415dc",
   "metadata": {},
   "outputs": [],
   "source": [
    "a = np.random.rand(1000000)\n",
    "b = np.random.rand(1000000)"
   ]
  },
  {
   "cell_type": "code",
   "execution_count": 22,
   "id": "4b478dd0",
   "metadata": {},
   "outputs": [
    {
     "name": "stdout",
     "output_type": "stream",
     "text": [
      "Wall time: 24 ms\n"
     ]
    }
   ],
   "source": [
    "%%time\n",
    "dot_product = np.dot(a, b)"
   ]
  },
  {
   "cell_type": "code",
   "execution_count": 23,
   "id": "d252a38d",
   "metadata": {},
   "outputs": [
    {
     "name": "stdout",
     "output_type": "stream",
     "text": [
      "Wall time: 1.05 s\n"
     ]
    }
   ],
   "source": [
    "%%time\n",
    "for i in range(len(a)):\n",
    "    dot_product += a[i] * b[i]"
   ]
  },
  {
   "cell_type": "markdown",
   "id": "dfde4747",
   "metadata": {},
   "source": [
    "21. What are multi-dimensional Numpy arrays?"
   ]
  },
  {
   "cell_type": "markdown",
   "id": "30fe9bdc",
   "metadata": {},
   "source": [
    "NumPy arrays can have any number of dimensions, and are sometimes called \"multi-dimensional arrays.\" NumPy arrays with more than one dimension are called \"2D arrays,\" \"3D arrays,\" and so on, depending on the number of dimensions."
   ]
  },
  {
   "cell_type": "markdown",
   "id": "936aa2f9",
   "metadata": {},
   "source": [
    "22. Illustrate the creation of Numpy arrays with 2, 3, and 4 dimensions"
   ]
  },
  {
   "cell_type": "code",
   "execution_count": 25,
   "id": "b37463b9",
   "metadata": {},
   "outputs": [
    {
     "name": "stdout",
     "output_type": "stream",
     "text": [
      "[[1 2 3]\n",
      " [4 5 6]]\n",
      "[[[1 2]\n",
      "  [3 4]]\n",
      "\n",
      " [[5 6]\n",
      "  [7 8]]]\n",
      "[[[[ 1  2]\n",
      "   [ 3  4]]\n",
      "\n",
      "  [[ 5  6]\n",
      "   [ 7  8]]]\n",
      "\n",
      "\n",
      " [[[ 9 10]\n",
      "   [11 12]]\n",
      "\n",
      "  [[13 14]\n",
      "   [15 16]]]]\n"
     ]
    }
   ],
   "source": [
    "a = np.array([[1, 2, 3], [4, 5, 6]])\n",
    "\n",
    "b = np.array([[[1, 2], [3, 4]], [[5, 6], [7, 8]]])\n",
    "\n",
    "c = np.array([[[[1, 2], [3, 4]], [[5, 6], [7, 8]]], [[[9, 10], [11, 12]], [[13, 14], [15, 16]]]])\n",
    "\n",
    "print(a)\n",
    "print(b)\n",
    "print(c)"
   ]
  },
  {
   "cell_type": "markdown",
   "id": "dc3f9466",
   "metadata": {},
   "source": [
    "23. How do you inspect the number of dimensions and the length along each dimension in a Numpy array?"
   ]
  },
  {
   "cell_type": "markdown",
   "id": "4b42fb3b",
   "metadata": {},
   "source": [
    "To inspect the number of dimensions and the length along each dimension in a NumPy array, you can use the ndim attribute and the shape attribute of the array."
   ]
  },
  {
   "cell_type": "code",
   "execution_count": 27,
   "id": "146b958c",
   "metadata": {},
   "outputs": [
    {
     "name": "stdout",
     "output_type": "stream",
     "text": [
      "2\n",
      "3\n",
      "4\n"
     ]
    }
   ],
   "source": [
    "# Create a 2D NumPy array\n",
    "a = np.array([[1, 2, 3], [4, 5, 6]])\n",
    "print(a.ndim)\n",
    "\n",
    "# Create a 3D NumPy array\n",
    "b = np.array([[[1, 2], [3, 4]], [[5, 6], [7, 8]]])\n",
    "print(b.ndim)\n",
    "\n",
    "# Create a 4D NumPy array\n",
    "c = np.array([[[[1, 2], [3, 4]], [[5, 6], [7, 8]]], [[[9, 10], [11, 12]], [[13, 14], [15, 16]]]])\n",
    "print(c.ndim)"
   ]
  },
  {
   "cell_type": "code",
   "execution_count": 28,
   "id": "e0de10b9",
   "metadata": {},
   "outputs": [
    {
     "name": "stdout",
     "output_type": "stream",
     "text": [
      "(2, 3)\n",
      "(2, 2, 2)\n",
      "(2, 2, 2, 2)\n"
     ]
    }
   ],
   "source": [
    "# Create a 2D NumPy array\n",
    "a = np.array([[1, 2, 3], [4, 5, 6]])\n",
    "print(a.shape)\n",
    "\n",
    "# Create a 3D NumPy array\n",
    "b = np.array([[[1, 2], [3, 4]], [[5, 6], [7, 8]]])\n",
    "print(b.shape)\n",
    "\n",
    "# Create a 4D NumPy array\n",
    "c = np.array([[[[1, 2], [3, 4]], [[5, 6], [7, 8]]], [[[9, 10], [11, 12]], [[13, 14], [15, 16]]]])\n",
    "print(c.shape)"
   ]
  },
  {
   "cell_type": "markdown",
   "id": "60578a54",
   "metadata": {},
   "source": [
    "24. Can the elements of a Numpy array have different data types?"
   ]
  },
  {
   "cell_type": "markdown",
   "id": "01f583df",
   "metadata": {},
   "source": [
    "Yes, the elements of a NumPy array can have different data types. By default, NumPy tries to infer the data type of the elements of the array based on the values that are passed to it."
   ]
  },
  {
   "cell_type": "code",
   "execution_count": 29,
   "id": "a5a20287",
   "metadata": {},
   "outputs": [
    {
     "name": "stdout",
     "output_type": "stream",
     "text": [
      "float64\n"
     ]
    }
   ],
   "source": [
    "a = np.array([1, 2, 3.5, 4.5, 5])\n",
    "\n",
    "print(a.dtype)"
   ]
  },
  {
   "cell_type": "markdown",
   "id": "e3b835ca",
   "metadata": {},
   "source": [
    "25. How do you check the data type of the elements of a Numpy array?"
   ]
  },
  {
   "cell_type": "markdown",
   "id": "b935eed7",
   "metadata": {},
   "source": [
    "To check the data type of the elements of a NumPy array, you can use the dtype attribute of the array. The dtype attribute returns the data type of the elements of the array as a NumPy data type object."
   ]
  },
  {
   "cell_type": "code",
   "execution_count": 30,
   "id": "8eca4b9e",
   "metadata": {},
   "outputs": [
    {
     "name": "stdout",
     "output_type": "stream",
     "text": [
      "int32\n"
     ]
    }
   ],
   "source": [
    "a = np.array([1, 2, 3.5, 4.5, 5], dtype='int32')\n",
    "\n",
    "print(a.dtype)"
   ]
  },
  {
   "cell_type": "markdown",
   "id": "d123b6e8",
   "metadata": {},
   "source": [
    "26. What is the data type of a Numpy array?"
   ]
  },
  {
   "cell_type": "markdown",
   "id": "6625aca4",
   "metadata": {},
   "source": [
    "A NumPy array has a data type that specifies the type of the elements of the array. The data type of a NumPy array is stored in the dtype attribute of the array."
   ]
  },
  {
   "cell_type": "markdown",
   "id": "d0e5e245",
   "metadata": {},
   "source": [
    "27. What is the difference between a matrix and a 2D Numpy array?"
   ]
  },
  {
   "cell_type": "markdown",
   "id": "3ae944de",
   "metadata": {},
   "source": [
    "In general, a matrix is a two-dimensional array of numbers that is used to represent linear transformations. A matrix is usually written in the form of a rectangular array of numbers, with each element of the array representing a number in the matrix.\n",
    "\n",
    "On the other hand, a NumPy array is a multi-dimensional array of elements that can be of any data type. A NumPy array can have any number of dimensions, and a 2D NumPy array is an array of rows, where each row is an array of elements.\n",
    "In terms of representation and operations, matrices and 2D NumPy arrays are similar, and you can use a 2D NumPy array to represent a matrix in Python. "
   ]
  },
  {
   "cell_type": "markdown",
   "id": "cbfc472f",
   "metadata": {},
   "source": [
    "28. How do you perform matrix multiplication using Numpy?"
   ]
  },
  {
   "cell_type": "markdown",
   "id": "54cca1be",
   "metadata": {},
   "source": [
    "You can perform matrix multiplication using NumPy by using the dot function or matmul function from the NumPy library"
   ]
  },
  {
   "cell_type": "markdown",
   "id": "018b7f06",
   "metadata": {},
   "source": [
    "29. What is the @ operator used for in Numpy?"
   ]
  },
  {
   "cell_type": "markdown",
   "id": "8351e0bf",
   "metadata": {},
   "source": [
    "In NumPy, the @ operator is an infix operator that performs matrix multiplication. It was introduced in Python 3.5 as a way to perform matrix multiplication in a more concise and intuitive way"
   ]
  },
  {
   "cell_type": "markdown",
   "id": "18aae700",
   "metadata": {},
   "source": [
    "30. What is the CSV file format?"
   ]
  },
  {
   "cell_type": "markdown",
   "id": "2d39c28d",
   "metadata": {},
   "source": [
    "CSV stands for Comma Separated Values. It is a simple file format that is used to store tabular data, such as a spreadsheet or database table."
   ]
  },
  {
   "cell_type": "markdown",
   "id": "07736434",
   "metadata": {},
   "source": [
    "31.How do you read data from a CSV file using Numpy?"
   ]
  },
  {
   "cell_type": "markdown",
   "id": "1bbd46cc",
   "metadata": {},
   "source": [
    "You can use NumPy's loadtxt function to read data from a CSV file and store it in a NumPy array. The loadtxt function is a convenient function for reading data from a simple, tabular text file, such as a CSV file."
   ]
  },
  {
   "cell_type": "markdown",
   "id": "005291a4",
   "metadata": {},
   "source": [
    "32. How do you concatenate two Numpy arrays?"
   ]
  },
  {
   "cell_type": "markdown",
   "id": "7a3165ee",
   "metadata": {},
   "source": [
    "You can use the concatenate function from NumPy to concatenate two NumPy arrays. The concatenate function combines two or more arrays along a given axis and returns a new array that is the concatenation of the input arrays."
   ]
  },
  {
   "cell_type": "code",
   "execution_count": 32,
   "id": "148da42e",
   "metadata": {},
   "outputs": [
    {
     "name": "stdout",
     "output_type": "stream",
     "text": [
      "[1 2 3 4 5 6]\n"
     ]
    }
   ],
   "source": [
    "a = np.array([1, 2, 3])\n",
    "b = np.array([4, 5, 6])\n",
    "\n",
    "c = np.concatenate((a, b))\n",
    "print(c)\n"
   ]
  },
  {
   "cell_type": "markdown",
   "id": "acce1ce4",
   "metadata": {},
   "source": [
    "33. What is the purpose of the axis argument of np.concatenate?"
   ]
  },
  {
   "cell_type": "markdown",
   "id": "36a6aa48",
   "metadata": {},
   "source": [
    "In NumPy, the axis argument of the concatenate function specifies the axis along which the arrays are concatenated. It determines the direction in which the arrays are combined, and the shape of the resulting array."
   ]
  },
  {
   "cell_type": "code",
   "execution_count": 34,
   "id": "58694e11",
   "metadata": {},
   "outputs": [
    {
     "name": "stdout",
     "output_type": "stream",
     "text": [
      "[[1 2]\n",
      " [3 4]\n",
      " [5 6]\n",
      " [7 8]]\n",
      "\n",
      "\n",
      "[[1 2 5 6]\n",
      " [3 4 7 8]]\n"
     ]
    }
   ],
   "source": [
    "a = np.array([[1, 2], [3, 4]])\n",
    "b = np.array([[5, 6], [7, 8]])\n",
    "\n",
    "# Concatenate the arrays along axis 0\n",
    "c = np.concatenate((a, b), axis=0)\n",
    "print(c)\n",
    "print(\"\\n\")\n",
    "# Concatenate the arrays along axis 1\n",
    "d = np.concatenate((a, b), axis=1)\n",
    "print(d)\n"
   ]
  },
  {
   "cell_type": "markdown",
   "id": "5e3f93f2",
   "metadata": {},
   "source": [
    "34. When are two Numpy arrays compatible for concatenation?"
   ]
  },
  {
   "cell_type": "markdown",
   "id": "6e03d420",
   "metadata": {},
   "source": [
    "In NumPy, two arrays are compatible for concatenation if they have the same shape along all dimensions except the one along which they are being concatenated"
   ]
  },
  {
   "cell_type": "markdown",
   "id": "c46e2eff",
   "metadata": {},
   "source": [
    "35. Give an example of two Numpy arrays that can be concatenated."
   ]
  },
  {
   "cell_type": "code",
   "execution_count": 35,
   "id": "224d56a3",
   "metadata": {},
   "outputs": [],
   "source": [
    "a = np.array([[1, 2], [3, 4]])\n",
    "b = np.array([[5, 6], [7, 8]])"
   ]
  },
  {
   "cell_type": "markdown",
   "id": "256ce7e6",
   "metadata": {},
   "source": [
    "36. Give an example of two Numpy arrays that cannot be concatenated."
   ]
  },
  {
   "cell_type": "code",
   "execution_count": 36,
   "id": "f6867645",
   "metadata": {},
   "outputs": [],
   "source": [
    "a = np.array([[1, 2], [3, 4]])\n",
    "b = np.array([[5, 6, 7], [8, 9, 10]])"
   ]
  },
  {
   "cell_type": "markdown",
   "id": "e8fd91b1",
   "metadata": {},
   "source": [
    "37. What is the purpose of the np.reshape function?"
   ]
  },
  {
   "cell_type": "markdown",
   "id": "3503b46d",
   "metadata": {},
   "source": [
    "38. What does it mean to “reshape” a Numpy array?"
   ]
  },
  {
   "cell_type": "markdown",
   "id": "6fb1d7ad",
   "metadata": {},
   "source": [
    "The reshape function in NumPy is used to change the shape of an array. It creates a new array with a different shape from the original array, without changing the data itself."
   ]
  },
  {
   "cell_type": "code",
   "execution_count": 37,
   "id": "c5c78c42",
   "metadata": {},
   "outputs": [
    {
     "name": "stdout",
     "output_type": "stream",
     "text": [
      "[[1 2]\n",
      " [3 4]\n",
      " [5 6]]\n"
     ]
    }
   ],
   "source": [
    "a = np.array([1, 2, 3, 4, 5, 6])\n",
    "b = a.reshape((3, 2))\n",
    "print(b) "
   ]
  },
  {
   "cell_type": "markdown",
   "id": "0a3756d8",
   "metadata": {},
   "source": [
    "39. How do you write a numpy array into a CSV file?"
   ]
  },
  {
   "cell_type": "markdown",
   "id": "7cf20ffd",
   "metadata": {},
   "source": [
    "You can use the numpy.savetxt function to write a NumPy array to a CSV file. The savetxt function takes the array and the file object as arguments, and writes the array to the file in CSV format."
   ]
  },
  {
   "cell_type": "code",
   "execution_count": 38,
   "id": "8fac29e6",
   "metadata": {},
   "outputs": [],
   "source": [
    "a = np.array([[1, 2, 3], [4, 5, 6]])\n",
    "\n",
    "# Save the array to a CSV file, with elements formatted as integers\n",
    "np.savetxt(\"array.csv\", a, delimiter=\",\", fmt=\"%d\")\n"
   ]
  },
  {
   "cell_type": "markdown",
   "id": "2023f844",
   "metadata": {},
   "source": [
    "40. Give some examples of Numpy functions for performing mathematical operations."
   ]
  },
  {
   "cell_type": "markdown",
   "id": "7c5f0c63",
   "metadata": {},
   "source": [
    "abs: Calculate the absolute value of an array.\n",
    "    \n",
    "exp: Calculate the exponential of an array.\n",
    "    \n",
    "sqrt: Calculate the square root of an array.\n",
    "    \n",
    "sin, cos, tan: Calculate the sine, cosine, and tangent of an array.\n",
    "    \n",
    "arcsin, arccos, arctan: Calculate the inverse sine, cosine, and tangent of an array.\n",
    "    \n",
    "log, log10, log2: Calculate the natural logarithm, base-10 logarithm, and base-2 logarithm of an array.\n",
    "    \n",
    "mean: Calculate the mean value of an array.\n",
    "    \n",
    "median: Calculate the median value of an array.\n",
    "    \n",
    "std: Calculate the standard deviation of an array.\n",
    "    \n",
    "corrcoef: Calculate the correlation coefficient of an array.\n",
    "    \n",
    "sort: Sort the elements of an array."
   ]
  },
  {
   "cell_type": "code",
   "execution_count": 39,
   "id": "a144134a",
   "metadata": {},
   "outputs": [
    {
     "name": "stdout",
     "output_type": "stream",
     "text": [
      "[0.22423086 0.07856559 0.90543733 0.70196379 0.48685482]\n",
      "[0.22423086 0.07856559 0.90543733 0.70196379 0.48685482]\n",
      "[1.25135988 1.0817343  2.47301321 2.01771118 1.62719035]\n",
      "[0.47353021 0.28029554 0.95154471 0.83783279 0.69774982]\n",
      "[0.22235654 0.07848479 0.78669521 0.64571843 0.46784847]\n",
      "[0.97496542 0.99691531 0.61734159 0.76357561 0.8838087 ]\n",
      "[0.22806608 0.07872764 1.27432725 0.84565094 0.5293549 ]\n",
      "0.4794104775315744\n",
      "0.30228381865763027\n"
     ]
    }
   ],
   "source": [
    "# Create an array with random values\n",
    "a = np.random.rand(5)\n",
    "\n",
    "# Calculate the absolute value, exponential, and square root of the array\n",
    "b = np.abs(a)\n",
    "c = np.exp(a)\n",
    "d = np.sqrt(a)\n",
    "\n",
    "# Calculate the sine, cosine, and tangent of the array\n",
    "e = np.sin(a)\n",
    "f = np.cos(a)\n",
    "g = np.tan(a)\n",
    "\n",
    "# Calculate the mean and standard deviation of the array\n",
    "mean = np.mean(a)\n",
    "std = np.std(a)\n",
    "\n",
    "# Sort the array\n",
    "h = np.sort(a)\n",
    "\n",
    "print(a)  \n",
    "print(b)  \n",
    "print(c)  \n",
    "print(d)  \n",
    "print(e)  \n",
    "print(f)  \n",
    "print(g)  \n",
    "print(mean) \n",
    "print(std)\n"
   ]
  },
  {
   "cell_type": "markdown",
   "id": "ec3d2909",
   "metadata": {},
   "source": [
    "41. Give some examples of Numpy functions for performing array manipulation."
   ]
  },
  {
   "cell_type": "markdown",
   "id": "f373f95a",
   "metadata": {},
   "source": [
    "reshape: Change the shape of an array.\n",
    "    \n",
    "resize: Change the size and shape of an array.\n",
    "    \n",
    "expand_dims: Add a new dimension to an array.\n",
    "    \n",
    "squeeze: Remove single-dimensional entries from the shape of an array.\n",
    "    \n",
    "flatten: Collapse an array into a single dimension.\n",
    "    \n",
    "transpose: Reverse or permute the dimensions of an array.\n",
    "    \n",
    "concatenate: Join two or more arrays along a specified axis.\n",
    "    \n",
    "vstack, hstack: Stack arrays vertically or horizontally.\n",
    "    \n",
    "split: Split an array into multiple subarrays.\n",
    "    \n",
    "tile: Repeat an array multiple times.\n",
    "    \n",
    "repeat: Repeat the elements of an array multiple times."
   ]
  },
  {
   "cell_type": "code",
   "execution_count": 43,
   "id": "f5b00a2b",
   "metadata": {},
   "outputs": [
    {
     "name": "stdout",
     "output_type": "stream",
     "text": [
      "[[1]\n",
      " [2]\n",
      " [3]\n",
      " [4]] \n",
      "\n",
      "[[1 2 3]\n",
      " [4 1 2]\n",
      " [3 4 1]] \n",
      "\n",
      "[[[1]\n",
      "  [2]]\n",
      "\n",
      " [[3]\n",
      "  [4]]] \n",
      "\n",
      "[[1 2]\n",
      " [3 4]] \n",
      "\n"
     ]
    }
   ],
   "source": [
    "# Create a 2D array\n",
    "a = np.array([[1, 2], [3, 4]])\n",
    "\n",
    "# Change the shape of the array\n",
    "b = a.reshape((4, 1))\n",
    "print(b,'\\n')  \n",
    "\n",
    "# Resize the array\n",
    "c = np.resize(a, (3, 3))\n",
    "print(c,'\\n') \n",
    "\n",
    "# Add a new dimension to the array\n",
    "d = np.expand_dims(a, axis=2)\n",
    "print(d,'\\n')  \n",
    "\n",
    "# Remove single-dimensional entries from the shape of the array\n",
    "e = np.squeeze(a)\n",
    "print(e,'\\n')"
   ]
  },
  {
   "cell_type": "markdown",
   "id": "4712a653",
   "metadata": {},
   "source": [
    "42. Give some examples of Numpy functions for performing linear algebra."
   ]
  },
  {
   "cell_type": "markdown",
   "id": "3329d459",
   "metadata": {},
   "source": [
    "dot: Compute the dot product of two arrays.\n",
    "    \n",
    "vdot: Compute the dot product of two vectors.\n",
    "    \n",
    "matmul: Compute the matrix product of two arrays.\n",
    "    \n",
    "transpose: Transpose an array.\n",
    "    \n",
    "linalg.inv: Compute the inverse of a matrix.\n",
    "    \n",
    "linalg.solve: Solve a linear system of equations.\n",
    "    \n",
    "linalg.eig: Compute the eigenvalues and eigenvectors of a matrix."
   ]
  },
  {
   "cell_type": "code",
   "execution_count": 45,
   "id": "0ddaa7bb",
   "metadata": {},
   "outputs": [
    {
     "name": "stdout",
     "output_type": "stream",
     "text": [
      "[[19 22]\n",
      " [43 50]] \n",
      "\n",
      "32 \n",
      "\n",
      "[[19 22]\n",
      " [43 50]] \n",
      "\n",
      "[[1 3]\n",
      " [2 4]] \n",
      "\n",
      "[[-2.   1. ]\n",
      " [ 1.5 -0.5]] \n",
      "\n",
      "[ 1. -0.] \n",
      "\n"
     ]
    }
   ],
   "source": [
    "import numpy as np\n",
    "\n",
    "# Create two 2D arrays\n",
    "a = np.array([[1, 2], [3, 4]])\n",
    "b = np.array([[5, 6], [7, 8]])\n",
    "\n",
    "# Compute the dot product of the arrays\n",
    "c = np.dot(a, b)\n",
    "print(c,'\\n')  \n",
    "\n",
    "# Compute the dot product of two vectors\n",
    "d = np.array([1, 2, 3])\n",
    "e = np.array([4, 5, 6])\n",
    "f = np.vdot(d, e)\n",
    "print(f,'\\n')  \n",
    "\n",
    "# Compute the matrix product of the arrays\n",
    "g = np.matmul(a, b)\n",
    "print(g,'\\n') \n",
    "\n",
    "# Transpose the array\n",
    "h = np.transpose(a)\n",
    "print(h,'\\n')  \n",
    "\n",
    "# Compute the inverse of a matrix\n",
    "i = np.linalg.inv(a)\n",
    "print(i,'\\n')\n",
    "\n",
    "# Solve a linear system of equations\n",
    "A = np.array([[1, 1], [2, 3]])\n",
    "b = np.array([1, 2])\n",
    "x = np.linalg.solve(A, b)\n",
    "print(x,'\\n') "
   ]
  },
  {
   "cell_type": "markdown",
   "id": "62edd48b",
   "metadata": {},
   "source": [
    "43. Give some examples of Numpy functions for performing statistical operations."
   ]
  },
  {
   "cell_type": "markdown",
   "id": "9a2b5b6d",
   "metadata": {},
   "source": [
    "mean: Calculate the mean value of an array.\n",
    "    \n",
    "median: Calculate the median value of an array.\n",
    "    \n",
    "std: Calculate the standard deviation of an array.\n",
    "    \n",
    "var: Calculate the variance of an array.\n",
    "    \n",
    "min, max: Calculate the minimum and maximum value of an array.\n",
    "    \n",
    "argmin, argmax: Calculate the indices of the minimum and maximum value of an array.\n",
    "    \n",
    "percentile: Calculate the nth percentile of an array.\n",
    "    \n",
    "corrcoef: Calculate the correlation coefficient of an array."
   ]
  },
  {
   "cell_type": "code",
   "execution_count": 47,
   "id": "284dde84",
   "metadata": {},
   "outputs": [
    {
     "name": "stdout",
     "output_type": "stream",
     "text": [
      "[0.98415549 0.25658061 0.49449161 0.67941391 0.1796052 ] \n",
      "\n",
      "0.5188493628731854 \n",
      "\n",
      "0.49449160824751437 \n",
      "\n",
      "0.292149128680316 \n",
      " \n",
      "\n",
      "0.08535111338866785 \n",
      "\n",
      "0.17960519739371772 \n",
      "\n",
      "0.9841554890877442 \n",
      "\n",
      "4 \n",
      "\n",
      "0 \n",
      "\n",
      "0.49449160824751437 \n",
      "\n",
      "1.0 \n",
      "\n"
     ]
    }
   ],
   "source": [
    "# Create an array with random values\n",
    "a = np.random.rand(5)\n",
    "\n",
    "# Calculate the mean, median, and standard deviation of the array\n",
    "mean = np.mean(a)\n",
    "median = np.median(a)\n",
    "std = np.std(a)\n",
    "\n",
    "# Calculate the variance of the array\n",
    "var = np.var(a)\n",
    "\n",
    "# Calculate the minimum and maximum value of the array\n",
    "min = np.min(a)\n",
    "max = np.max(a)\n",
    "\n",
    "# Calculate the indices of the minimum and maximum value of the array\n",
    "argmin = np.argmin(a)\n",
    "argmax = np.argmax(a)\n",
    "\n",
    "# Calculate the 50th percentile of the array\n",
    "percentile = np.percentile(a, 50)\n",
    "\n",
    "# Calculate the correlation coefficient of the array\n",
    "corrcoef = np.corrcoef(a)\n",
    "\n",
    "print(a,'\\n')  \n",
    "print(mean,'\\n')\n",
    "print(median,'\\n')\n",
    "print(std,'\\n','\\n')  \n",
    "print(var,'\\n')\n",
    "print(min,'\\n')\n",
    "print(max,'\\n')\n",
    "print(argmin,'\\n')\n",
    "print(argmax,'\\n')\n",
    "print(percentile,'\\n')\n",
    "print(corrcoef,'\\n')  \n"
   ]
  },
  {
   "cell_type": "markdown",
   "id": "d26793ac",
   "metadata": {},
   "source": [
    "44. How do you find the right Numpy function for a specific operation or use case?"
   ]
  },
  {
   "cell_type": "markdown",
   "id": "220d037f",
   "metadata": {},
   "source": [
    "Look at the NumPy documentation: The NumPy documentation is a comprehensive resource that lists all of the functions and methods available in NumPy, along with detailed descriptions and examples. You can access the documentation at https://numpy.org/.\n",
    "\n",
    "Use the NumPy function search: The NumPy function search is a tool that allows you to search for functions by keyword. To use the function search, go to https://numpy.org/doc/stable/reference/routines.html and enter your search terms in the search box at the top of the page.\n",
    "\n",
    "Use the dir function: You can use the Python dir function to list all of the functions and methods available in NumPy. For example, you can use dir(np) to list all of the functions and methods in the NumPy module.\n",
    "\n",
    "Use online resources: There are many online resources that provide examples and explanations of how to use NumPy functions. You can use these resources to learn about different NumPy functions and how to use them.\n",
    "\n",
    "Experiment and try out different functions: If you are not sure which NumPy function to use, you can try out different functions to see which one works best for your use case."
   ]
  },
  {
   "cell_type": "markdown",
   "id": "33a9be1c",
   "metadata": {},
   "source": [
    "45. Where can you see a list of all the Numpy array functions and operations?"
   ]
  },
  {
   "cell_type": "markdown",
   "id": "fc207b54",
   "metadata": {},
   "source": [
    "Use the NumPy function search: The NumPy function search is a tool that allows you to search for functions by keyword. To use the function search, go to https://numpy.org/doc/stable/reference/routines.html and enter your search terms in the search box at the top of the page."
   ]
  },
  {
   "cell_type": "markdown",
   "id": "961d4828",
   "metadata": {},
   "source": [
    "46. What are the arithmetic operators supported by Numpy arrays? Illustrate with examples."
   ]
  },
  {
   "cell_type": "markdown",
   "id": "def9e568",
   "metadata": {},
   "source": [
    "+: Add two arrays element-wise.\n",
    "    \n",
    "-: Subtract two arrays element-wise.\n",
    "    \n",
    "*: Multiply two arrays element-wise.\n",
    "    \n",
    "/: Divide two arrays element-wise.\n",
    "    \n",
    "//: Divide two arrays element-wise and round down to the nearest integer.\n",
    "    \n",
    "**: Raise one array to the power of another element-wise."
   ]
  },
  {
   "cell_type": "code",
   "execution_count": 49,
   "id": "10655387",
   "metadata": {},
   "outputs": [
    {
     "name": "stdout",
     "output_type": "stream",
     "text": [
      "[5 7 9] \n",
      " [-3 -3 -3] \n",
      " [ 4 10 18] \n",
      " [0.25 0.4  0.5 ] \n",
      " [0 0 0] \n",
      " [  1  32 729] \n",
      "\n"
     ]
    }
   ],
   "source": [
    "a = np.array([1, 2, 3])\n",
    "b = np.array([4, 5, 6])\n",
    "\n",
    "c = a + b\n",
    "d = a - b\n",
    "e = a * b\n",
    "f = a / b\n",
    "g = a // b\n",
    "h = a ** b\n",
    "print(c,'\\n',d,'\\n',e,'\\n',f,'\\n',g,'\\n',h,'\\n')"
   ]
  },
  {
   "cell_type": "markdown",
   "id": "813016da",
   "metadata": {},
   "source": [
    "47. What is array broadcasting? How is it useful? Illustrate with an example"
   ]
  },
  {
   "cell_type": "markdown",
   "id": "a55a3339",
   "metadata": {},
   "source": [
    "Array broadcasting is a powerful feature in NumPy that allows you to perform element-wise operations on arrays with different shapes. Array broadcasting works by \"stretching\" or \"copying\" the smaller array so that it has the same shape as the larger array, and then performing the element-wise operation on the two arrays.\n",
    "\n",
    "Array broadcasting is useful because it allows you to write concise code for operations that would otherwise require loops or other explicit array manipulation. It also enables you to perform element-wise operations on arrays with different shapes, which is not possible with standard Python operators."
   ]
  },
  {
   "cell_type": "code",
   "execution_count": 50,
   "id": "7803ecda",
   "metadata": {},
   "outputs": [
    {
     "name": "stdout",
     "output_type": "stream",
     "text": [
      "[[ 8 10 12]\n",
      " [11 13 15]]\n"
     ]
    }
   ],
   "source": [
    "# Create a 2D array\n",
    "a = np.array([[1, 2, 3], [4, 5, 6]])\n",
    "\n",
    "# Create a 1D array\n",
    "b = np.array([7, 8, 9])\n",
    "\n",
    "# Perform an element-wise operation using array broadcasting\n",
    "c = a + b\n",
    "print(c) "
   ]
  },
  {
   "cell_type": "markdown",
   "id": "9e071b0c",
   "metadata": {},
   "source": [
    "48. Give some examples of arrays that are compatible for broadcasting?"
   ]
  },
  {
   "cell_type": "code",
   "execution_count": 51,
   "id": "dc35204e",
   "metadata": {},
   "outputs": [],
   "source": [
    "# Create a 2D array\n",
    "a = np.array([[1, 2, 3], [4, 5, 6]])\n",
    "\n",
    "# Create a 1D array\n",
    "b = np.array([7, 8, 9])"
   ]
  },
  {
   "cell_type": "markdown",
   "id": "2c117de8",
   "metadata": {},
   "source": [
    "49. Give some examples of arrays that are not compatible for broadcasting?"
   ]
  },
  {
   "cell_type": "code",
   "execution_count": 52,
   "id": "c79335a6",
   "metadata": {},
   "outputs": [],
   "source": [
    "a = np.array([[1, 2, 3], [4, 5, 6]])\n",
    "b = np.array([7, 8])\n",
    "\n",
    "a = np.array([[1, 2, 3], [4, 5, 6]])\n",
    "b = np.array([[7, 8], [9, 10]])\n",
    "\n",
    "a = np.array([[1, 2, 3], [4, 5, 6]])\n",
    "b = np.array(7)"
   ]
  },
  {
   "cell_type": "markdown",
   "id": "fa028fc9",
   "metadata": {},
   "source": [
    "50. What are the comparison operators supported by Numpy arrays? Illustrate with examples."
   ]
  },
  {
   "cell_type": "raw",
   "id": "9d4263c0",
   "metadata": {},
   "source": [
    "== : Return an array with a Boolean value for each element, indicating whether the elements are equal.\n",
    "    \n",
    "!= : Return an array with a Boolean value for each element, indicating whether the elements are not equal.\n",
    "    \n",
    ">  : Return an array with a Boolean value for each element, indicating whether the element in the first array is greater than the element in the second array.\n",
    "    \n",
    "<  : Return an array with a Boolean value for each element, indicating whether the element in the first array is less than the element in the second array.\n",
    "    \n",
    ">= : Return an array with a Boolean value for each element, indicating whether the element in the first array is greater than or equal to the element in the second array.\n",
    "    \n",
    "<= : Return an array with a Boolean value for each element, indicating whether the element in the first array is less than or equal to the element in the second array."
   ]
  },
  {
   "cell_type": "markdown",
   "id": "e633172b",
   "metadata": {},
   "source": [
    "51. How do you access a specific subarray or slice from a Numpy array?"
   ]
  },
  {
   "cell_type": "code",
   "execution_count": 54,
   "id": "acbbb24f",
   "metadata": {},
   "outputs": [
    {
     "name": "stdout",
     "output_type": "stream",
     "text": [
      "[4 5 6]\n",
      "[2 5 8]\n",
      "[[5 6]\n",
      " [8 9]]\n"
     ]
    }
   ],
   "source": [
    "# Create a 2D array\n",
    "a = np.array([[1, 2, 3], [4, 5, 6], [7, 8, 9]])\n",
    "\n",
    "# Access the second row of the array\n",
    "b = a[1,:]\n",
    "print(b) \n",
    "\n",
    "# Access the second column of the array\n",
    "c = a[:,1]\n",
    "print(c) \n",
    "\n",
    "# Access a subarray with a shape of (2,2) starting at index (1,1)\n",
    "d = a[1:3,1:3]\n",
    "print(d) "
   ]
  },
  {
   "cell_type": "markdown",
   "id": "b958f556",
   "metadata": {},
   "source": [
    "52. Illustrate array indexing and slicing in multi-dimensional Numpy arrays with some examples."
   ]
  },
  {
   "cell_type": "code",
   "execution_count": 55,
   "id": "c9ca77ea",
   "metadata": {},
   "outputs": [
    {
     "name": "stdout",
     "output_type": "stream",
     "text": [
      "[[5 6]\n",
      " [7 8]]\n",
      "[[3 4]\n",
      " [7 8]]\n",
      "[[2 4]\n",
      " [6 8]]\n",
      "[[[8]]]\n"
     ]
    }
   ],
   "source": [
    "# Create a 3D array\n",
    "a = np.array([[[1, 2], [3, 4]], [[5, 6], [7, 8]]])\n",
    "\n",
    "# Access the second element of the first dimension\n",
    "b = a[1]\n",
    "print(b) \n",
    "\n",
    "# Access the second element of the second dimension\n",
    "c = a[:,1]\n",
    "print(c)  \n",
    "\n",
    "# Access the second element of the third dimension\n",
    "d = a[:,:,1]\n",
    "print(d)  \n",
    "\n",
    "# Access a subarray with a shape of (2,2,1) starting at index (1,1,1)\n",
    "e = a[1:3,1:3,1:2]\n",
    "print(e) "
   ]
  },
  {
   "cell_type": "markdown",
   "id": "669c4574",
   "metadata": {},
   "source": [
    "53. How do you create a Numpy array with a given shape containing all zeros?"
   ]
  },
  {
   "cell_type": "code",
   "execution_count": 56,
   "id": "41d608f7",
   "metadata": {},
   "outputs": [
    {
     "data": {
      "text/plain": [
       "array([[0., 0., 0.],\n",
       "       [0., 0., 0.],\n",
       "       [0., 0., 0.]])"
      ]
     },
     "execution_count": 56,
     "metadata": {},
     "output_type": "execute_result"
    }
   ],
   "source": [
    "np.zeros((3,3))"
   ]
  },
  {
   "cell_type": "markdown",
   "id": "264b5e96",
   "metadata": {},
   "source": [
    "54. How do you create a Numpy array with a given shape containing all ones?"
   ]
  },
  {
   "cell_type": "code",
   "execution_count": 57,
   "id": "a9c77c4d",
   "metadata": {},
   "outputs": [
    {
     "data": {
      "text/plain": [
       "array([[1., 1., 1.],\n",
       "       [1., 1., 1.],\n",
       "       [1., 1., 1.]])"
      ]
     },
     "execution_count": 57,
     "metadata": {},
     "output_type": "execute_result"
    }
   ],
   "source": [
    "np.ones((3,3))"
   ]
  },
  {
   "cell_type": "markdown",
   "id": "a350c448",
   "metadata": {},
   "source": [
    "55. How do you create an identity matrix of a given shape?"
   ]
  },
  {
   "cell_type": "code",
   "execution_count": 58,
   "id": "846128b7",
   "metadata": {},
   "outputs": [
    {
     "data": {
      "text/plain": [
       "array([[1., 0., 0., 0.],\n",
       "       [0., 1., 0., 0.],\n",
       "       [0., 0., 1., 0.],\n",
       "       [0., 0., 0., 1.]])"
      ]
     },
     "execution_count": 58,
     "metadata": {},
     "output_type": "execute_result"
    }
   ],
   "source": [
    "np.eye(4)"
   ]
  },
  {
   "cell_type": "markdown",
   "id": "a7788b5d",
   "metadata": {},
   "source": [
    "56. How do you create a random vector of a given length?"
   ]
  },
  {
   "cell_type": "code",
   "execution_count": 59,
   "id": "d4b7c18b",
   "metadata": {},
   "outputs": [
    {
     "data": {
      "text/plain": [
       "array([0.56643693, 0.87429306, 0.01557085, 0.29752758, 0.57192847,\n",
       "       0.78284939])"
      ]
     },
     "execution_count": 59,
     "metadata": {},
     "output_type": "execute_result"
    }
   ],
   "source": [
    "np.random.rand(6)"
   ]
  },
  {
   "cell_type": "markdown",
   "id": "87058597",
   "metadata": {},
   "source": [
    "57. How do you create a Numpy array with a given shape with a fixed value for each element?"
   ]
  },
  {
   "cell_type": "code",
   "execution_count": 60,
   "id": "2d2dc10b",
   "metadata": {},
   "outputs": [
    {
     "data": {
      "text/plain": [
       "array([[69, 69, 69],\n",
       "       [69, 69, 69]])"
      ]
     },
     "execution_count": 60,
     "metadata": {},
     "output_type": "execute_result"
    }
   ],
   "source": [
    "np.full([2,3],69)"
   ]
  },
  {
   "cell_type": "markdown",
   "id": "18136244",
   "metadata": {},
   "source": [
    "58. How do you create a Numpy array with a given shape containing randomly initialized elements?"
   ]
  },
  {
   "cell_type": "code",
   "execution_count": 62,
   "id": "a6fe7f30",
   "metadata": {},
   "outputs": [
    {
     "data": {
      "text/plain": [
       "array([[0.5207106 , 0.86315293, 0.38858578, 0.75622029],\n",
       "       [0.63260343, 0.50848346, 0.72674817, 0.30796134],\n",
       "       [0.28547747, 0.91152167, 0.17705786, 0.21642813]])"
      ]
     },
     "execution_count": 62,
     "metadata": {},
     "output_type": "execute_result"
    }
   ],
   "source": [
    "np.random.rand(3, 4)"
   ]
  },
  {
   "cell_type": "markdown",
   "id": "9e7a743a",
   "metadata": {},
   "source": [
    "59. What is the difference between np.random.rand and np.random.randn? Illustrate with examples."
   ]
  },
  {
   "cell_type": "markdown",
   "id": "ddc81edd",
   "metadata": {},
   "source": [
    "The numpy.random.rand function generates random values between 0 and 1 from a uniform distribution, while the numpy.random.randn function generates random values from a normal distribution with mean 0 and standard deviation 1."
   ]
  },
  {
   "cell_type": "code",
   "execution_count": 64,
   "id": "20218f8c",
   "metadata": {},
   "outputs": [
    {
     "data": {
      "text/plain": [
       "array([[ 0.18931932, -0.8865772 ],\n",
       "       [ 0.24330439,  0.23245972]])"
      ]
     },
     "execution_count": 64,
     "metadata": {},
     "output_type": "execute_result"
    }
   ],
   "source": [
    "np.random.randn(2,2)"
   ]
  },
  {
   "cell_type": "markdown",
   "id": "6f2f019b",
   "metadata": {},
   "source": [
    "60. What is the difference between np.arange and np.linspace? Illustrate with examples."
   ]
  },
  {
   "cell_type": "markdown",
   "id": "e775546d",
   "metadata": {},
   "source": [
    "The numpy.arange function generates a sequence of evenly spaced values within a given range, while the numpy.linspace function generates a sequence of evenly spaced values over a specified interval."
   ]
  },
  {
   "cell_type": "code",
   "execution_count": 65,
   "id": "d5f9e9b1",
   "metadata": {},
   "outputs": [
    {
     "data": {
      "text/plain": [
       "array([ 3.,  6.,  9., 12., 15., 18., 21., 24., 27.])"
      ]
     },
     "execution_count": 65,
     "metadata": {},
     "output_type": "execute_result"
    }
   ],
   "source": [
    "np.linspace(3,27,9)"
   ]
  },
  {
   "cell_type": "code",
   "execution_count": 66,
   "id": "227dbbfb",
   "metadata": {},
   "outputs": [
    {
     "data": {
      "text/plain": [
       "array([6, 7, 8, 9])"
      ]
     },
     "execution_count": 66,
     "metadata": {},
     "output_type": "execute_result"
    }
   ],
   "source": [
    "np.arange(6, 10)"
   ]
  },
  {
   "cell_type": "code",
   "execution_count": null,
   "id": "5fec4829",
   "metadata": {},
   "outputs": [],
   "source": []
  }
 ],
 "metadata": {
  "kernelspec": {
   "display_name": "Python 3 (ipykernel)",
   "language": "python",
   "name": "python3"
  },
  "language_info": {
   "codemirror_mode": {
    "name": "ipython",
    "version": 3
   },
   "file_extension": ".py",
   "mimetype": "text/x-python",
   "name": "python",
   "nbconvert_exporter": "python",
   "pygments_lexer": "ipython3",
   "version": "3.9.13"
  }
 },
 "nbformat": 4,
 "nbformat_minor": 5
}
