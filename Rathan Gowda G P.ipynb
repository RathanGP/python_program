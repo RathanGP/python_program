{
 "cells": [
  {
   "cell_type": "markdown",
   "id": "dfc66e38",
   "metadata": {},
   "source": [
    "\n",
    "## 1.Implement and Demonstrate Depth First Search Algorithm on Water Jug Problem"
   ]
  },
  {
   "cell_type": "code",
   "execution_count": 18,
   "id": "17f8e083",
   "metadata": {},
   "outputs": [
    {
     "name": "stdout",
     "output_type": "stream",
     "text": [
      "path ia as follows :\n",
      "( 0 , 0 )\n",
      "( 5 , 0 )\n",
      "( 5 , 3 )\n",
      "( 0 , 3 )\n",
      "( 3 , 0 )\n",
      "( 3 , 3 )\n",
      "( 5 , 1 )\n",
      "( 0 , 1 )\n",
      "( 1 , 0 )\n",
      "( 1 , 3 )\n",
      "( 4 , 0 )\n"
     ]
    },
    {
     "data": {
      "text/plain": [
       "True"
      ]
     },
     "execution_count": 18,
     "metadata": {},
     "output_type": "execute_result"
    }
   ],
   "source": [
    "from collections import defaultdict\n",
    "visited=defaultdict(lambda:False)\n",
    "j1,j2,l=0,0,0\n",
    "def water_jug_problem(x,y):\n",
    "    global j1,j2,l\n",
    "    if(x==l and y==0) or (x==0 and y==l):\n",
    "        print('(',x,',',y,')',sep=\" \")\n",
    "        return True\n",
    "    if visited[(x,y)]==False:\n",
    "        print('(',x,',',y,')',sep=\" \")\n",
    "        visited[(x,y)]=True\n",
    "        return( water_jug_problem(0,y)  or water_jug_problem(x,0) or\n",
    "                water_jug_problem(j1,y) or water_jug_problem(x,j2)or\n",
    "                water_jug_problem(x+min(y,(j1-x)),y-min(y,(j1-x)))or\n",
    "                water_jug_problem(x-min(x,(j2-y)),y+min(x,(j2-y))))\n",
    "    else:\n",
    "        return False\n",
    "j1,j2,l=5,3,4\n",
    "print(\"path ia as follows :\")\n",
    "water_jug_problem(0,0)"
   ]
  },
  {
   "cell_type": "markdown",
   "id": "9fd65653",
   "metadata": {},
   "source": [
    "## 2. Implement and Demonstrate Best First Search Algorithm on any AI problem"
   ]
  },
  {
   "cell_type": "code",
   "execution_count": 19,
   "id": "017a250d",
   "metadata": {},
   "outputs": [
    {
     "name": "stdout",
     "output_type": "stream",
     "text": [
      "path found:['A', 'B', 'D']\n"
     ]
    },
    {
     "data": {
      "text/plain": [
       "['A', 'B', 'D']"
      ]
     },
     "execution_count": 19,
     "metadata": {},
     "output_type": "execute_result"
    }
   ],
   "source": [
    "class Graph:\n",
    "    def __init__(self,adjac_lis):\n",
    "        self.adjac_lis = adjac_lis\n",
    "    def get_neighbours(self,v):\n",
    "        return self.adjac_lis[v]\n",
    "    def h(self,n):\n",
    "        H={'A':1,'B':1, 'C':1,'D':1}\n",
    "        return H[n]\n",
    "    def a_star_algorithm(self,start,stop):\n",
    "        open_lst = set([start])\n",
    "        closed_lst = set([])\n",
    "        dist ={}\n",
    "        dist[start] = 0\n",
    "        prenode ={}\n",
    "        prenode[start] =start\n",
    "        while len(open_lst)>0:\n",
    "            n = None\n",
    "            for v in open_lst:\n",
    "                if n==None or dist[v]+self.h(v)<dist[n]+self.h(n):\n",
    "                    n=v;\n",
    "            if n==None:\n",
    "                print(\"path doesnot exist\")\n",
    "                return None\n",
    "            if n==stop:\n",
    "                reconst_path=[]\n",
    "                while prenode[n]!=n:\n",
    "                    reconst_path.append(n)\n",
    "                    n = prenode[n]\n",
    "                reconst_path.append(start)\n",
    "                reconst_path.reverse()\n",
    "                print(\"path found:{}\".format(reconst_path))\n",
    "                return reconst_path\n",
    "            for (m,weight) in self.get_neighbours(n):\n",
    "                if m not in open_lst and m not in closed_lst:\n",
    "                    open_lst.add(m)\n",
    "                    prenode[m] = n\n",
    "                    dist[m] = dist[n]+weight\n",
    "                else:\n",
    "                    if dist[m]>dist[n]+weight:\n",
    "                        dist[m] = dist[n]+weight\n",
    "                        prenode[m]=n\n",
    "                        if m in closed_lst:\n",
    "                            closed_lst.remove(m)\n",
    "                            open_lst.add(m)\n",
    "            open_lst.remove(n)\n",
    "            closed_lst.add(n)\n",
    "        print(\"Path doesnot exist\")\n",
    "        return None\n",
    "adjac_lis ={'A':[('B',1),('C',3),('D',7)],'B':[('D',5)],'C':[('D',12)]}\n",
    "graph1=Graph(adjac_lis)\n",
    "graph1.a_star_algorithm('A', 'D')"
   ]
  },
  {
   "cell_type": "markdown",
   "id": "55a6155c",
   "metadata": {},
   "source": [
    "## 3. Implement AO* Search algorithm"
   ]
  },
  {
   "cell_type": "code",
   "execution_count": 20,
   "id": "8a7b20ad",
   "metadata": {},
   "outputs": [
    {
     "name": "stdout",
     "output_type": "stream",
     "text": [
      "Graph-A\n",
      "PROCESSING NODE : A\n",
      "-----------------------------------------------------------------------------------------\n",
      "8 ['B']\n",
      "\n",
      "PROCESSING NODE : B\n",
      "-----------------------------------------------------------------------------------------\n",
      "7 ['E']\n",
      "\n",
      "PROCESSING NODE : A\n",
      "-----------------------------------------------------------------------------------------\n",
      "10 ['C', 'D']\n",
      "\n",
      "PROCESSING NODE : E\n",
      "-----------------------------------------------------------------------------------------\n",
      "0 []\n",
      "\n",
      "PROCESSING NODE : B\n",
      "-----------------------------------------------------------------------------------------\n",
      "1 ['E']\n",
      "\n",
      "PROCESSING NODE : A\n",
      "-----------------------------------------------------------------------------------------\n",
      "5 ['B']\n",
      "\n",
      "FOR THE SOLUTION, TRAVERSE THE GRAPH FROM THE START NODE: A\n",
      "------------------------------------------------------------\n",
      "{'E': [], 'B': ['E'], 'A': ['B']}\n",
      "------------------------------------------------------------\n"
     ]
    }
   ],
   "source": [
    "from heuristicsearch.ao_star import AOStar\n",
    "print('Graph-A')\n",
    "adj_list={\n",
    "    'A':[[('C',2),('D',3)],[('B',4)]],\n",
    "    'B':[[('E',1)],[('F',4)]],\n",
    "    'C':[[('G',3)],[('H',2),('I',3)]],\n",
    "    'D':[[('J',3)]]\n",
    "}\n",
    "Heuristic={\n",
    "    'A': -1,\n",
    "    'B': 4,\n",
    "    'C': 2,\n",
    "    'D': 3,\n",
    "    'E': 6,\n",
    "    'F': 8,\n",
    "    'G': 2,\n",
    "    'H': 0,\n",
    "    'I': 0,\n",
    "    'J': 0\n",
    "}\n",
    "graph=AOStar(adj_list,Heuristic,'A')\n",
    "graph.applyAOStar()"
   ]
  },
  {
   "cell_type": "markdown",
   "id": "56d114c7",
   "metadata": {},
   "source": [
    "## 4. Solve 8-Queens Problem with suitable assumptions"
   ]
  },
  {
   "cell_type": "code",
   "execution_count": 21,
   "id": "30b0a3dd",
   "metadata": {},
   "outputs": [
    {
     "name": "stdout",
     "output_type": "stream",
     "text": [
      "Enter the number of queens\n",
      "5\n",
      "[1, 0, 0, 0, 0]\n",
      "[0, 0, 1, 0, 0]\n",
      "[0, 0, 0, 0, 1]\n",
      "[0, 1, 0, 0, 0]\n",
      "[0, 0, 0, 1, 0]\n"
     ]
    }
   ],
   "source": [
    "print (\"Enter the number of queens\")\n",
    "N = int(input())\n",
    "\n",
    "board = [[0]*N for _ in range(N)]\n",
    "\n",
    "def attack(i, j):\n",
    "    for k in range(0,N):\n",
    "        if board[i][k]==1 or board[k][j]==1:\n",
    "            return True\n",
    "    for k in range(0,N):\n",
    "        for l in range(0,N):\n",
    "            if (k+l==i+j) or (k-l==i-j):\n",
    "                if board[k][l]==1:\n",
    "                    return True\n",
    "    return False\n",
    "\n",
    "def N_queens(n):\n",
    "    if n==0:\n",
    "        return True\n",
    "    for i in range(0,N):\n",
    "        for j in range(0,N):\n",
    "            if (not(attack(i,j))) and (board[i][j]!=1):\n",
    "                board[i][j] = 1\n",
    "                if N_queens(n-1)==True:\n",
    "                    return True\n",
    "                board[i][j] = 0\n",
    "    return False\n",
    "\n",
    "N_queens(N)\n",
    "for i in board:\n",
    "    print (i)"
   ]
  },
  {
   "cell_type": "markdown",
   "id": "34d879c8",
   "metadata": {},
   "source": [
    "## 5. Implementation of TSP using heuristic approach"
   ]
  },
  {
   "cell_type": "code",
   "execution_count": 15,
   "id": "22c850ed",
   "metadata": {},
   "outputs": [],
   "source": [
    "import math\n",
    "maxsige =float('inf')\n",
    "\n",
    "def copyTofind (curr_path):\n",
    "    final_path[:N+1] = curr_path[:]\n",
    "    final_path[N] = curr_path[0]\n",
    "\n",
    "def firstMin(adj,i):\n",
    "    min =maxsize\n",
    "    for k in range (N):\n",
    "        if adj[i][k]<min and i!=k:\n",
    "            min = adj[i][k]\n",
    "            return min\n",
    "\n",
    "def secondMin(adj,i):\n",
    "    first,second = maxsize,maxsize\n",
    "    for j in range(N):\n",
    "        if i == j :\n",
    "            continue\n",
    "        if adj[i][j]<=first :\n",
    "            second=first\n",
    "            first = adj[i][j]\n",
    "        elif(adj[i][j]<=second and adj[i][j]!=first):\n",
    "            second = adj[i][j]\n",
    "    return second\n",
    "\n",
    "def TSPRec(adj,curr_bound,curr_height,level,curr_path,visited):\n",
    "    global final_res\n",
    "    if adj[curr_path[level-1]][curr_path[0]]!=0:\n",
    "        curr_res = curr_weight + adj[curr_path[level-1]][curr_path[0]]\n",
    "\n",
    "        if curr_res < final_res:\n",
    "            copyTofind (curr_path)\n",
    "\n",
    "        final_res = curr_res\n",
    "        return\n",
    "        for i in range (N):\n",
    "            if(adj[curr_path[level-1]][i]!=0 and visited[i]==false):\n",
    "                temp = curr_bound\n",
    "                curr_bound == ((firstMin(adj,curr_path[level-1])+ firstMin (adj,i))/2)\n",
    "            else:\n",
    "                curr_bound -= ((secondMin(adj,curr_path[level-1])+firstMin(adj,i))/2)\n",
    "                if curr_bound + curr_weight <final_res:\n",
    "                    curr_path[level]=i\n",
    "                    visited[i] = True\n",
    "                    TSPRec(adj.curr_bound,curr_weight,level+1,curr_path,visited)\n",
    "                    curr_weiight -= adj[curr_path[level-1]][i]\n",
    "                    curr_bound = temp\n",
    "                    visited = [False]*len(visited)\n",
    "                    for j in range(level):\n",
    "                        if curr_path[j]!=-1:\n",
    "                            visited[curr_path[j]]= True\n",
    "\n",
    "def TSP(adj):\n",
    "    curr_bound = 0\n",
    "    curr_path=[-1]*[N+1]\n",
    "    visited = [False]*N\n",
    "    for i in range(N):\n",
    "        curr_bound +=(firstMin(adj,i)+secondMin(adj,i))\n",
    "        curr_bound = math.cei((curr_bound/2))\n",
    "        \n",
    "        visited[0] = True\n",
    "        curr_path[0]=0\n",
    "        TSPRec(adj.curr_bound,0,1,curr_path,visited)\n",
    "        adj = [[0,4,12,7],[5,0,0,18],[11,0,0,6],[10,2,3,0]]\n",
    "        N=4\n",
    "        final_path = [None]*(N+1)\n",
    "        visited = [False]*N\n",
    "        final_res = maxsize\n",
    "        TSP(adj)\n",
    "        print(\"Minimum cost:\",final_res)\n",
    "        print(\"path taken:\",end='')\n",
    "    for i in range(N+1):\n",
    "        print(final_path[:],end='')"
   ]
  },
  {
   "cell_type": "markdown",
   "id": "3e6a890d",
   "metadata": {},
   "source": [
    "....    Minimum cost: 25\n",
    "       Path taken: 0   2   3   10"
   ]
  },
  {
   "cell_type": "markdown",
   "id": "dda7eeaa",
   "metadata": {},
   "source": [
    "## 6. Implementation of the problem solving strategies: either using Forward Chaining or Backward Chaining"
   ]
  },
  {
   "cell_type": "code",
   "execution_count": 23,
   "id": "43e9dddd",
   "metadata": {},
   "outputs": [
    {
     "name": "stdout",
     "output_type": "stream",
     "text": [
      "[['sing', 'canary'], ['canary', 'yellow']]\n"
     ]
    }
   ],
   "source": [
    "factskw=[['croaks', 'frog'],['eats flies','frog'],['frog','green'],['chirps','canary'],['sing','canary'],['canary','yellow']]\n",
    "def check(str, factOb):\n",
    "    facts=[]\n",
    "    flag=True\n",
    "    while flag==True:\n",
    "        flag=False\n",
    "        for txt in str:\n",
    "            for A1 in factOb:\n",
    "                if A1[0] == txt:\n",
    "                    tmp = [txt,A1[1]]\n",
    "                    if not tmp in facts:\n",
    "                        facts += [tmp]\n",
    "                        str += A1[1]\n",
    "                        flag = True\n",
    "    return facts\n",
    "result = check(['sing', 'canary'], factskw)\n",
    "print(result)\n"
   ]
  },
  {
   "cell_type": "code",
   "execution_count": 24,
   "id": "8f897cb3",
   "metadata": {},
   "outputs": [
    {
     "name": "stdout",
     "output_type": "stream",
     "text": [
      "Processing goal: C\n",
      "Found a rule with goal in its Chaining:\n",
      "A->('C',)\n",
      "Found a rule with goal in its Chaining:\n",
      "B->('C',)\n"
     ]
    },
    {
     "data": {
      "text/plain": [
       "True"
      ]
     },
     "execution_count": 24,
     "metadata": {},
     "output_type": "execute_result"
    }
   ],
   "source": [
    "class Rule:\n",
    "    def __init__(self, conclusion, *premises):\n",
    "        self.conclusion = conclusion\n",
    "        self.premises = premises\n",
    "def backward_chaining(goal, rules):\n",
    "    agenda = [goal]\n",
    "    while agenda:\n",
    "        goal = agenda.pop(0)\n",
    "        print(\"Processing goal:\", goal)\n",
    "        found = False\n",
    "        for rule in rules:\n",
    "            if goal in rule.premises:\n",
    "                print(\"Found a rule with goal in its Chaining:\")\n",
    "                print(rule.conclusion, rule.premises, sep='->')\n",
    "                found = True\n",
    "                for premise in rule.premises:\n",
    "                    if premise not in agenda:\n",
    "                        agenda.append(premise)\n",
    "        if not found:\n",
    "            print(\"No rules found for:\", goal)\n",
    "            return False\n",
    "        return True\n",
    "# Example usage\n",
    "rules = [Rule(\"A\", \"C\"), Rule(\"B\", \"C\"), Rule(\"C\", \"D\")]\n",
    "backward_chaining(\"C\", rules)\n",
    "# Output: True"
   ]
  },
  {
   "cell_type": "markdown",
   "id": "989e9cda",
   "metadata": {},
   "source": [
    "## 7. Implement resolution principle on FOPL related problems"
   ]
  },
  {
   "cell_type": "code",
   "execution_count": 25,
   "id": "bd5cfc85",
   "metadata": {},
   "outputs": [
    {
     "name": "stdout",
     "output_type": "stream",
     "text": [
      "parts: ['(A ', ' B) ', ' B']\n",
      "dnf_parts: [None, None, None]\n",
      "(A  or  B)  or  B\n"
     ]
    }
   ],
   "source": [
    "import re\n",
    "def dnf(formula): \n",
    "    if re.fullmatch(r'[A-Z]|~[A-Z]|()\"\"', formula):\n",
    "        return formula\n",
    "    if 'and' in formula or 'or' in formula:\n",
    "        parts = re.split(r'(?<=[^\\w])or(?=[^\\w])|(?<=[^\\w])and(?=[^\\w])', formula)\n",
    "        print(f\"parts: {parts}\")\n",
    "        dnf_parts = [dnf(part) for part in parts]\n",
    "        print(f\"dnf_parts: {dnf_parts}\")\n",
    "        if 'or' in formula:\n",
    "            return \" or \".join(parts)\n",
    "        elif 'and' in formula:\n",
    "            return \" and \".join(parts)\n",
    "# Example usage\n",
    "formula = \"(A and B) or B\"\n",
    "dnf_formula = dnf(formula)\n",
    "print(dnf_formula) # Outputs: \"A or C or B or D or\""
   ]
  },
  {
   "cell_type": "code",
   "execution_count": 26,
   "id": "44b7cb9c",
   "metadata": {},
   "outputs": [
    {
     "name": "stdout",
     "output_type": "stream",
     "text": [
      "(A and B) or (C and D)\n"
     ]
    }
   ],
   "source": [
    "import re\n",
    "def cnf(formula):\n",
    "    if re.fullmatch(r'[A-Z]|~[A-Z]', formula):\n",
    "        return formula\n",
    "    if 'and' in formula or 'or' in formula:\n",
    "        parts = re.split(r'(?<=\\()or(?=\\))|(?<=\\()and(?=\\))', formula)\n",
    "        if 'and' in formula:\n",
    "            return \" and \".join(parts)\n",
    "        elif 'or' in formula:\n",
    "            return \" or \".join(parts)\n",
    "# Example usage\n",
    "formula = \"(A and B) or (C and D)\"\n",
    "cnf_formula = cnf(formula)\n",
    "print(cnf_formula) # Outputs: \"A and B or C and D or\""
   ]
  },
  {
   "cell_type": "markdown",
   "id": "f493c060",
   "metadata": {},
   "source": [
    "## 8. Implement any Game and demonstrate the Game playing strategies"
   ]
  },
  {
   "cell_type": "code",
   "execution_count": 27,
   "id": "74115a3a",
   "metadata": {},
   "outputs": [
    {
     "name": "stdout",
     "output_type": "stream",
     "text": [
      "  0 1 2\n",
      "0      \n",
      "1      \n",
      "2      \n",
      "X, enter column: 1\n",
      "X, enter row: 1\n",
      "  0 1 2\n",
      "0      \n",
      "1   X  \n",
      "2      \n",
      "O, enter column: 0\n",
      "O, enter row: 0\n",
      "  0 1 2\n",
      "0 O    \n",
      "1   X  \n",
      "2      \n",
      "X, enter column: 2\n",
      "X, enter row: 2\n",
      "  0 1 2\n",
      "0 O    \n",
      "1   X  \n",
      "2     X\n",
      "O, enter column: 1\n",
      "O, enter row: 0\n",
      "  0 1 2\n",
      "0 O O  \n",
      "1   X  \n",
      "2     X\n",
      "X, enter column: 2\n",
      "X, enter row: 0\n",
      "  0 1 2\n",
      "0 O O X\n",
      "1   X  \n",
      "2     X\n",
      "O, enter column: 2\n",
      "O, enter row: 1\n",
      "  0 1 2\n",
      "0 O O X\n",
      "1   X O\n",
      "2     X\n",
      "X, enter column: 0\n",
      "X, enter row: 2\n",
      "X wins!\n"
     ]
    }
   ],
   "source": [
    "#Tic-tac Program\n",
    "board = [[\" \" for _ in range(3)] for _ in range(3)]\n",
    "\n",
    "def draw_board():\n",
    "    print(\"  0 1 2\")\n",
    "    for i, row in enumerate(board):\n",
    "        print(i, \" \".join(row))\n",
    "\n",
    "def get_move(player):\n",
    "    while True:\n",
    "        col = input(f\"{player}, enter column: \")\n",
    "        row = input(f\"{player}, enter row: \")\n",
    "        if col.isdigit() and row.isdigit():\n",
    "            col, row = int(col), int(row)\n",
    "            if 0 <= col < 3 and 0 <= row < 3:\n",
    "                if board[row][col] == \" \":\n",
    "                    board[row][col] = player\n",
    "                    return\n",
    "                else:\n",
    "                    print(\"That space is already occupied. Try again.\")\n",
    "            else:\n",
    "                print(\"Invalid move. Try again.\")\n",
    "        else:\n",
    "            print(\"Invalid input. Try again.\")\n",
    "\n",
    "def has_winner():\n",
    "    for row in board:\n",
    "        if row[0] == row[1] == row[2] and row[0] != \" \":\n",
    "            return True\n",
    "    for col in range(3):\n",
    "        if board[0][col] == board[1][col] == board[2][col] and board[0][col] != \" \":\n",
    "            return True\n",
    "        if board[0][0] == board[1][1] == board[2][2] and board[0][0] != \" \":\n",
    "            return True\n",
    "        if board[2][0] == board[1][1] == board[0][2] and board[2][0] != \" \":\n",
    "            return True\n",
    "    return False\n",
    "\n",
    "def main():\n",
    "    while True:\n",
    "        draw_board()\n",
    "        get_move(\"X\")\n",
    "        if has_winner():\n",
    "            print(\"X wins!\")\n",
    "            break\n",
    "        draw_board()\n",
    "        get_move(\"O\")\n",
    "        if has_winner():\n",
    "            print(\"O wins!\")\n",
    "            break\n",
    "\n",
    "main()"
   ]
  }
 ],
 "metadata": {
  "kernelspec": {
   "display_name": "Python 3 (ipykernel)",
   "language": "python",
   "name": "python3"
  },
  "language_info": {
   "codemirror_mode": {
    "name": "ipython",
    "version": 3
   },
   "file_extension": ".py",
   "mimetype": "text/x-python",
   "name": "python",
   "nbconvert_exporter": "python",
   "pygments_lexer": "ipython3",
   "version": "3.9.13"
  },
  "vscode": {
   "interpreter": {
    "hash": "54a7670276af794920b448c09d2fb1dae285d9fe096c08ac83992ae91114297c"
   }
  }
 },
 "nbformat": 4,
 "nbformat_minor": 5
}
